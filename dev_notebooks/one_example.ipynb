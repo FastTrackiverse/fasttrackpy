{
 "cells": [
  {
   "cell_type": "code",
   "execution_count": 1,
   "metadata": {},
   "outputs": [],
   "source": [
    "import parselmouth as pm\n",
    "import numpy as np\n",
    "from fasttrackpy.tracks import OneTrack\n",
    "# import plotly.graph_objects as go\n",
    "# import pandas as pd\n",
    "import time"
   ]
  },
  {
   "attachments": {},
   "cell_type": "markdown",
   "metadata": {},
   "source": [
    "Read in the sound file with parselmouth"
   ]
  },
  {
   "cell_type": "code",
   "execution_count": 2,
   "metadata": {},
   "outputs": [],
   "source": [
    "sound = pm.Sound(\"assets/ay.wav\")"
   ]
  },
  {
   "cell_type": "code",
   "execution_count": 8,
   "metadata": {},
   "outputs": [],
   "source": [
    "track_obj = OneTrack(\n",
    "    sound = sound,\n",
    "    maximum_formant = 5500,\n",
    "    n_formants = 5\n",
    ")"
   ]
  },
  {
   "cell_type": "code",
   "execution_count": 9,
   "metadata": {},
   "outputs": [
    {
     "data": {
      "text/plain": [
       "A formant track object. (5, 360)"
      ]
     },
     "execution_count": 9,
     "metadata": {},
     "output_type": "execute_result"
    }
   ],
   "source": [
    "track_obj"
   ]
  },
  {
   "cell_type": "code",
   "execution_count": 10,
   "metadata": {},
   "outputs": [
    {
     "data": {
      "text/plain": [
       "array([[ 675.11325553,  675.89090534,  676.25428694, ...,  284.72430384,\n",
       "         291.78731195,  299.16996874],\n",
       "       [1257.74147338, 1255.24001419, 1253.04799879, ..., 2201.34320103,\n",
       "        2198.54502146, 2194.52659419],\n",
       "       [2622.73928787, 2620.66161563, 2618.09234165, ..., 2479.16499937,\n",
       "        2479.68668442, 2480.23231972],\n",
       "       [4257.20281432, 4310.96855566, 4352.94266101, ..., 4016.25688398,\n",
       "        4017.3716013 , 4018.40428199],\n",
       "       [5062.67444948, 5066.74256669, 5070.95019907, ...,           nan,\n",
       "                  nan,           nan]])"
      ]
     },
     "execution_count": 10,
     "metadata": {},
     "output_type": "execute_result"
    }
   ],
   "source": [
    "track_obj.formants"
   ]
  }
 ],
 "metadata": {
  "kernelspec": {
   "display_name": "venv",
   "language": "python",
   "name": "python3"
  },
  "language_info": {
   "codemirror_mode": {
    "name": "ipython",
    "version": 3
   },
   "file_extension": ".py",
   "mimetype": "text/x-python",
   "name": "python",
   "nbconvert_exporter": "python",
   "pygments_lexer": "ipython3",
   "version": "3.10.13"
  },
  "orig_nbformat": 4,
  "vscode": {
   "interpreter": {
    "hash": "df8a427082444fd19780692f82af4fc3df91946a571c1c2ea97044eb00ed7c67"
   }
  }
 },
 "nbformat": 4,
 "nbformat_minor": 2
}
